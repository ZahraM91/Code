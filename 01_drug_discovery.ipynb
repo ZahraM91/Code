{
 "cells": [
  {
   "cell_type": "code",
   "execution_count": 1,
   "metadata": {
    "colab": {
     "base_uri": "https://localhost:8080/"
    },
    "id": "pfTz6OhRoUnC",
    "outputId": "c82adc51-4c8a-4404-d726-728dc38a2626",
    "scrolled": true
   },
   "outputs": [
    {
     "name": "stdout",
     "output_type": "stream",
     "text": [
      "Requirement already satisfied: chembl_webresource_client in /Users/zahramusavizadeh/anaconda3/lib/python3.10/site-packages (0.10.8)\n",
      "Requirement already satisfied: urllib3 in /Users/zahramusavizadeh/anaconda3/lib/python3.10/site-packages (from chembl_webresource_client) (1.26.14)\n",
      "Requirement already satisfied: requests>=2.18.4 in /Users/zahramusavizadeh/anaconda3/lib/python3.10/site-packages (from chembl_webresource_client) (2.28.1)\n",
      "Requirement already satisfied: requests-cache~=0.7.0 in /Users/zahramusavizadeh/anaconda3/lib/python3.10/site-packages (from chembl_webresource_client) (0.7.5)\n",
      "Requirement already satisfied: easydict in /Users/zahramusavizadeh/anaconda3/lib/python3.10/site-packages (from chembl_webresource_client) (1.10)\n",
      "Requirement already satisfied: charset-normalizer<3,>=2 in /Users/zahramusavizadeh/anaconda3/lib/python3.10/site-packages (from requests>=2.18.4->chembl_webresource_client) (2.0.4)\n",
      "Requirement already satisfied: idna<4,>=2.5 in /Users/zahramusavizadeh/anaconda3/lib/python3.10/site-packages (from requests>=2.18.4->chembl_webresource_client) (3.4)\n",
      "Requirement already satisfied: certifi>=2017.4.17 in /Users/zahramusavizadeh/anaconda3/lib/python3.10/site-packages (from requests>=2.18.4->chembl_webresource_client) (2022.12.7)\n",
      "Requirement already satisfied: attrs<22.0,>=21.2 in /Users/zahramusavizadeh/anaconda3/lib/python3.10/site-packages (from requests-cache~=0.7.0->chembl_webresource_client) (21.4.0)\n",
      "Requirement already satisfied: itsdangerous>=2.0.1 in /Users/zahramusavizadeh/anaconda3/lib/python3.10/site-packages (from requests-cache~=0.7.0->chembl_webresource_client) (2.0.1)\n",
      "Requirement already satisfied: pyyaml>=5.4 in /Users/zahramusavizadeh/anaconda3/lib/python3.10/site-packages (from requests-cache~=0.7.0->chembl_webresource_client) (6.0)\n",
      "Requirement already satisfied: url-normalize<2.0,>=1.4 in /Users/zahramusavizadeh/anaconda3/lib/python3.10/site-packages (from requests-cache~=0.7.0->chembl_webresource_client) (1.4.3)\n",
      "Requirement already satisfied: six in /Users/zahramusavizadeh/anaconda3/lib/python3.10/site-packages (from url-normalize<2.0,>=1.4->requests-cache~=0.7.0->chembl_webresource_client) (1.16.0)\n",
      "Note: you may need to restart the kernel to use updated packages.\n"
     ]
    }
   ],
   "source": [
    "pip install chembl_webresource_client\n"
   ]
  },
  {
   "cell_type": "code",
   "execution_count": 88,
   "metadata": {
    "id": "OdeyT2mcocbh"
   },
   "outputs": [],
   "source": [
    "import numpy as np\n",
    "import pandas as pd\n",
    "from time import time\n",
    "\n",
    "from sklearn.metrics import f1_score\n",
    "from sklearn.metrics import confusion_matrix\n",
    "import seaborn as sns\n",
    "%matplotlib inline\n",
    "\n",
    "from chembl_webresource_client.new_client import new_client\n"
   ]
  },
  {
   "cell_type": "markdown",
   "metadata": {
    "id": "L6nMO22vpKi4"
   },
   "source": [
    "Search for Target protein    (Scaffold analysis of ChEMBL data with pandas and RDKit )"
   ]
  },
  {
   "cell_type": "code",
   "execution_count": 89,
   "metadata": {
    "id": "XmhjpHnSo3ZV"
   },
   "outputs": [],
   "source": [
    "target = new_client.target\n",
    "target_query = target.search('aurora a')\n",
    "targets = pd.DataFrame.from_dict(target_query)\n"
   ]
  },
  {
   "cell_type": "code",
   "execution_count": 90,
   "metadata": {
    "colab": {
     "base_uri": "https://localhost:8080/",
     "height": 641
    },
    "id": "NznTLeJgpRy3",
    "outputId": "704b54a1-24f1-4b36-d377-d5f038d7dc8b"
   },
   "outputs": [
    {
     "data": {
      "text/html": [
       "<div>\n",
       "<style scoped>\n",
       "    .dataframe tbody tr th:only-of-type {\n",
       "        vertical-align: middle;\n",
       "    }\n",
       "\n",
       "    .dataframe tbody tr th {\n",
       "        vertical-align: top;\n",
       "    }\n",
       "\n",
       "    .dataframe thead th {\n",
       "        text-align: right;\n",
       "    }\n",
       "</style>\n",
       "<table border=\"1\" class=\"dataframe\">\n",
       "  <thead>\n",
       "    <tr style=\"text-align: right;\">\n",
       "      <th></th>\n",
       "      <th>cross_references</th>\n",
       "      <th>organism</th>\n",
       "      <th>pref_name</th>\n",
       "      <th>score</th>\n",
       "      <th>species_group_flag</th>\n",
       "      <th>target_chembl_id</th>\n",
       "      <th>target_components</th>\n",
       "      <th>target_type</th>\n",
       "      <th>tax_id</th>\n",
       "    </tr>\n",
       "  </thead>\n",
       "  <tbody>\n",
       "    <tr>\n",
       "      <th>0</th>\n",
       "      <td>[]</td>\n",
       "      <td>Xenopus laevis</td>\n",
       "      <td>Aurora kinase B-A</td>\n",
       "      <td>23.0</td>\n",
       "      <td>False</td>\n",
       "      <td>CHEMBL2176838</td>\n",
       "      <td>[{'accession': 'Q6DE08', 'component_descriptio...</td>\n",
       "      <td>SINGLE PROTEIN</td>\n",
       "      <td>8355.0</td>\n",
       "    </tr>\n",
       "    <tr>\n",
       "      <th>1</th>\n",
       "      <td>[]</td>\n",
       "      <td>Xenopus laevis</td>\n",
       "      <td>Aurora kinase A-A</td>\n",
       "      <td>23.0</td>\n",
       "      <td>False</td>\n",
       "      <td>CHEMBL5169182</td>\n",
       "      <td>[{'accession': 'Q91820', 'component_descriptio...</td>\n",
       "      <td>SINGLE PROTEIN</td>\n",
       "      <td>8355.0</td>\n",
       "    </tr>\n",
       "    <tr>\n",
       "      <th>2</th>\n",
       "      <td>[{'xref_id': 'O14965', 'xref_name': None, 'xre...</td>\n",
       "      <td>Homo sapiens</td>\n",
       "      <td>Serine/threonine-protein kinase Aurora-A</td>\n",
       "      <td>20.0</td>\n",
       "      <td>False</td>\n",
       "      <td>CHEMBL4722</td>\n",
       "      <td>[{'accession': 'O14965', 'component_descriptio...</td>\n",
       "      <td>SINGLE PROTEIN</td>\n",
       "      <td>9606.0</td>\n",
       "    </tr>\n",
       "    <tr>\n",
       "      <th>3</th>\n",
       "      <td>[{'xref_id': 'P97477', 'xref_name': None, 'xre...</td>\n",
       "      <td>Mus musculus</td>\n",
       "      <td>Serine/threonine-protein kinase Aurora-A</td>\n",
       "      <td>20.0</td>\n",
       "      <td>False</td>\n",
       "      <td>CHEMBL2211</td>\n",
       "      <td>[{'accession': 'P97477', 'component_descriptio...</td>\n",
       "      <td>SINGLE PROTEIN</td>\n",
       "      <td>10090.0</td>\n",
       "    </tr>\n",
       "    <tr>\n",
       "      <th>4</th>\n",
       "      <td>[]</td>\n",
       "      <td>Homo sapiens</td>\n",
       "      <td>Aurora kinase A/B</td>\n",
       "      <td>20.0</td>\n",
       "      <td>False</td>\n",
       "      <td>CHEMBL3883303</td>\n",
       "      <td>[{'accession': 'Q96GD4', 'component_descriptio...</td>\n",
       "      <td>PROTEIN FAMILY</td>\n",
       "      <td>9606.0</td>\n",
       "    </tr>\n",
       "    <tr>\n",
       "      <th>...</th>\n",
       "      <td>...</td>\n",
       "      <td>...</td>\n",
       "      <td>...</td>\n",
       "      <td>...</td>\n",
       "      <td>...</td>\n",
       "      <td>...</td>\n",
       "      <td>...</td>\n",
       "      <td>...</td>\n",
       "      <td>...</td>\n",
       "    </tr>\n",
       "    <tr>\n",
       "      <th>6564</th>\n",
       "      <td>[]</td>\n",
       "      <td>Homo sapiens</td>\n",
       "      <td>Histone-lysine N-methyltransferase PRDM7</td>\n",
       "      <td>0.0</td>\n",
       "      <td>False</td>\n",
       "      <td>CHEMBL5214861</td>\n",
       "      <td>[{'accession': 'Q9NQW5', 'component_descriptio...</td>\n",
       "      <td>SINGLE PROTEIN</td>\n",
       "      <td>9606.0</td>\n",
       "    </tr>\n",
       "    <tr>\n",
       "      <th>6565</th>\n",
       "      <td>[]</td>\n",
       "      <td>Homo sapiens</td>\n",
       "      <td>PR domain zinc finger protein 2</td>\n",
       "      <td>0.0</td>\n",
       "      <td>False</td>\n",
       "      <td>CHEMBL5214862</td>\n",
       "      <td>[{'accession': 'Q13029', 'component_descriptio...</td>\n",
       "      <td>SINGLE PROTEIN</td>\n",
       "      <td>9606.0</td>\n",
       "    </tr>\n",
       "    <tr>\n",
       "      <th>6566</th>\n",
       "      <td>[]</td>\n",
       "      <td>Homo sapiens</td>\n",
       "      <td>PR domain zinc finger protein 10</td>\n",
       "      <td>0.0</td>\n",
       "      <td>False</td>\n",
       "      <td>CHEMBL5214863</td>\n",
       "      <td>[{'accession': 'Q9NQV6', 'component_descriptio...</td>\n",
       "      <td>SINGLE PROTEIN</td>\n",
       "      <td>9606.0</td>\n",
       "    </tr>\n",
       "    <tr>\n",
       "      <th>6567</th>\n",
       "      <td>[]</td>\n",
       "      <td>Homo sapiens</td>\n",
       "      <td>PR domain zinc finger protein 8</td>\n",
       "      <td>0.0</td>\n",
       "      <td>False</td>\n",
       "      <td>CHEMBL5214864</td>\n",
       "      <td>[{'accession': 'Q9NQV8', 'component_descriptio...</td>\n",
       "      <td>SINGLE PROTEIN</td>\n",
       "      <td>9606.0</td>\n",
       "    </tr>\n",
       "    <tr>\n",
       "      <th>6568</th>\n",
       "      <td>[]</td>\n",
       "      <td>Homo sapiens</td>\n",
       "      <td>Histone-lysine N-methyltransferase MECOM</td>\n",
       "      <td>0.0</td>\n",
       "      <td>False</td>\n",
       "      <td>CHEMBL5214865</td>\n",
       "      <td>[{'accession': 'Q03112', 'component_descriptio...</td>\n",
       "      <td>SINGLE PROTEIN</td>\n",
       "      <td>9606.0</td>\n",
       "    </tr>\n",
       "  </tbody>\n",
       "</table>\n",
       "<p>6569 rows × 9 columns</p>\n",
       "</div>"
      ],
      "text/plain": [
       "                                       cross_references        organism  \\\n",
       "0                                                    []  Xenopus laevis   \n",
       "1                                                    []  Xenopus laevis   \n",
       "2     [{'xref_id': 'O14965', 'xref_name': None, 'xre...    Homo sapiens   \n",
       "3     [{'xref_id': 'P97477', 'xref_name': None, 'xre...    Mus musculus   \n",
       "4                                                    []    Homo sapiens   \n",
       "...                                                 ...             ...   \n",
       "6564                                                 []    Homo sapiens   \n",
       "6565                                                 []    Homo sapiens   \n",
       "6566                                                 []    Homo sapiens   \n",
       "6567                                                 []    Homo sapiens   \n",
       "6568                                                 []    Homo sapiens   \n",
       "\n",
       "                                     pref_name  score  species_group_flag  \\\n",
       "0                            Aurora kinase B-A   23.0               False   \n",
       "1                            Aurora kinase A-A   23.0               False   \n",
       "2     Serine/threonine-protein kinase Aurora-A   20.0               False   \n",
       "3     Serine/threonine-protein kinase Aurora-A   20.0               False   \n",
       "4                            Aurora kinase A/B   20.0               False   \n",
       "...                                        ...    ...                 ...   \n",
       "6564  Histone-lysine N-methyltransferase PRDM7    0.0               False   \n",
       "6565           PR domain zinc finger protein 2    0.0               False   \n",
       "6566          PR domain zinc finger protein 10    0.0               False   \n",
       "6567           PR domain zinc finger protein 8    0.0               False   \n",
       "6568  Histone-lysine N-methyltransferase MECOM    0.0               False   \n",
       "\n",
       "     target_chembl_id                                  target_components  \\\n",
       "0       CHEMBL2176838  [{'accession': 'Q6DE08', 'component_descriptio...   \n",
       "1       CHEMBL5169182  [{'accession': 'Q91820', 'component_descriptio...   \n",
       "2          CHEMBL4722  [{'accession': 'O14965', 'component_descriptio...   \n",
       "3          CHEMBL2211  [{'accession': 'P97477', 'component_descriptio...   \n",
       "4       CHEMBL3883303  [{'accession': 'Q96GD4', 'component_descriptio...   \n",
       "...               ...                                                ...   \n",
       "6564    CHEMBL5214861  [{'accession': 'Q9NQW5', 'component_descriptio...   \n",
       "6565    CHEMBL5214862  [{'accession': 'Q13029', 'component_descriptio...   \n",
       "6566    CHEMBL5214863  [{'accession': 'Q9NQV6', 'component_descriptio...   \n",
       "6567    CHEMBL5214864  [{'accession': 'Q9NQV8', 'component_descriptio...   \n",
       "6568    CHEMBL5214865  [{'accession': 'Q03112', 'component_descriptio...   \n",
       "\n",
       "         target_type   tax_id  \n",
       "0     SINGLE PROTEIN   8355.0  \n",
       "1     SINGLE PROTEIN   8355.0  \n",
       "2     SINGLE PROTEIN   9606.0  \n",
       "3     SINGLE PROTEIN  10090.0  \n",
       "4     PROTEIN FAMILY   9606.0  \n",
       "...              ...      ...  \n",
       "6564  SINGLE PROTEIN   9606.0  \n",
       "6565  SINGLE PROTEIN   9606.0  \n",
       "6566  SINGLE PROTEIN   9606.0  \n",
       "6567  SINGLE PROTEIN   9606.0  \n",
       "6568  SINGLE PROTEIN   9606.0  \n",
       "\n",
       "[6569 rows x 9 columns]"
      ]
     },
     "execution_count": 90,
     "metadata": {},
     "output_type": "execute_result"
    }
   ],
   "source": [
    "targets"
   ]
  },
  {
   "cell_type": "code",
   "execution_count": 91,
   "metadata": {
    "id": "XlTQwLxgqAj-"
   },
   "outputs": [],
   "source": [
    "##Select and retrieve bioactivity data for Human aurora a (third entry)"
   ]
  },
  {
   "cell_type": "code",
   "execution_count": 92,
   "metadata": {
    "colab": {
     "base_uri": "https://localhost:8080/",
     "height": 35
    },
    "id": "0iVcW3PqqDsG",
    "outputId": "ea290842-d4fe-4ffd-f8b5-ea6d7a2ce657"
   },
   "outputs": [
    {
     "data": {
      "text/plain": [
       "'CHEMBL4722'"
      ]
     },
     "execution_count": 92,
     "metadata": {},
     "output_type": "execute_result"
    }
   ],
   "source": [
    "selected_target = targets.target_chembl_id[2]\n",
    "selected_target"
   ]
  },
  {
   "cell_type": "code",
   "execution_count": 93,
   "metadata": {
    "id": "hZ1Vujx2qWFH"
   },
   "outputs": [],
   "source": [
    "#Here, we will retrieve only bioactivity data\n",
    "# for Human aurora a (CHEMBL4722) that are reported as pChEMBL values."
   ]
  },
  {
   "cell_type": "code",
   "execution_count": 94,
   "metadata": {
    "colab": {
     "base_uri": "https://localhost:8080/",
     "height": 312
    },
    "id": "EwsTxDugqYtx",
    "outputId": "7a380ba3-6171-43e2-febd-4bc5ee51bcd0"
   },
   "outputs": [],
   "source": [
    "activity = new_client.activity\n",
    "res = activity.filter(target_chembl_id=selected_target).filter(standard_type=\"IC50\")\n",
    "df = pd.DataFrame.from_dict(res)\n",
    "#df.head(3)"
   ]
  },
  {
   "cell_type": "code",
   "execution_count": 95,
   "metadata": {},
   "outputs": [
    {
     "data": {
      "text/html": [
       "<div>\n",
       "<style scoped>\n",
       "    .dataframe tbody tr th:only-of-type {\n",
       "        vertical-align: middle;\n",
       "    }\n",
       "\n",
       "    .dataframe tbody tr th {\n",
       "        vertical-align: top;\n",
       "    }\n",
       "\n",
       "    .dataframe thead th {\n",
       "        text-align: right;\n",
       "    }\n",
       "</style>\n",
       "<table border=\"1\" class=\"dataframe\">\n",
       "  <thead>\n",
       "    <tr style=\"text-align: right;\">\n",
       "      <th></th>\n",
       "      <th>action_type</th>\n",
       "      <th>activity_comment</th>\n",
       "      <th>activity_id</th>\n",
       "      <th>activity_properties</th>\n",
       "      <th>assay_chembl_id</th>\n",
       "      <th>assay_description</th>\n",
       "      <th>assay_type</th>\n",
       "      <th>assay_variant_accession</th>\n",
       "      <th>assay_variant_mutation</th>\n",
       "      <th>bao_endpoint</th>\n",
       "      <th>...</th>\n",
       "      <th>target_organism</th>\n",
       "      <th>target_pref_name</th>\n",
       "      <th>target_tax_id</th>\n",
       "      <th>text_value</th>\n",
       "      <th>toid</th>\n",
       "      <th>type</th>\n",
       "      <th>units</th>\n",
       "      <th>uo_units</th>\n",
       "      <th>upper_value</th>\n",
       "      <th>value</th>\n",
       "    </tr>\n",
       "  </thead>\n",
       "  <tbody>\n",
       "    <tr>\n",
       "      <th>0</th>\n",
       "      <td>None</td>\n",
       "      <td>None</td>\n",
       "      <td>1504915</td>\n",
       "      <td>[]</td>\n",
       "      <td>CHEMBL827045</td>\n",
       "      <td>Inhibition of Aurora kinase A</td>\n",
       "      <td>B</td>\n",
       "      <td>None</td>\n",
       "      <td>None</td>\n",
       "      <td>BAO_0000190</td>\n",
       "      <td>...</td>\n",
       "      <td>Homo sapiens</td>\n",
       "      <td>Serine/threonine-protein kinase Aurora-A</td>\n",
       "      <td>9606</td>\n",
       "      <td>None</td>\n",
       "      <td>None</td>\n",
       "      <td>IC50</td>\n",
       "      <td>uM</td>\n",
       "      <td>UO_0000065</td>\n",
       "      <td>None</td>\n",
       "      <td>0.005</td>\n",
       "    </tr>\n",
       "    <tr>\n",
       "      <th>1</th>\n",
       "      <td>None</td>\n",
       "      <td>None</td>\n",
       "      <td>1504917</td>\n",
       "      <td>[]</td>\n",
       "      <td>CHEMBL827045</td>\n",
       "      <td>Inhibition of Aurora kinase A</td>\n",
       "      <td>B</td>\n",
       "      <td>None</td>\n",
       "      <td>None</td>\n",
       "      <td>BAO_0000190</td>\n",
       "      <td>...</td>\n",
       "      <td>Homo sapiens</td>\n",
       "      <td>Serine/threonine-protein kinase Aurora-A</td>\n",
       "      <td>9606</td>\n",
       "      <td>None</td>\n",
       "      <td>None</td>\n",
       "      <td>IC50</td>\n",
       "      <td>uM</td>\n",
       "      <td>UO_0000065</td>\n",
       "      <td>None</td>\n",
       "      <td>0.041</td>\n",
       "    </tr>\n",
       "    <tr>\n",
       "      <th>2</th>\n",
       "      <td>None</td>\n",
       "      <td>None</td>\n",
       "      <td>1504919</td>\n",
       "      <td>[]</td>\n",
       "      <td>CHEMBL827045</td>\n",
       "      <td>Inhibition of Aurora kinase A</td>\n",
       "      <td>B</td>\n",
       "      <td>None</td>\n",
       "      <td>None</td>\n",
       "      <td>BAO_0000190</td>\n",
       "      <td>...</td>\n",
       "      <td>Homo sapiens</td>\n",
       "      <td>Serine/threonine-protein kinase Aurora-A</td>\n",
       "      <td>9606</td>\n",
       "      <td>None</td>\n",
       "      <td>None</td>\n",
       "      <td>IC50</td>\n",
       "      <td>uM</td>\n",
       "      <td>UO_0000065</td>\n",
       "      <td>None</td>\n",
       "      <td>0.13</td>\n",
       "    </tr>\n",
       "  </tbody>\n",
       "</table>\n",
       "<p>3 rows × 46 columns</p>\n",
       "</div>"
      ],
      "text/plain": [
       "  action_type activity_comment  activity_id activity_properties  \\\n",
       "0        None             None      1504915                  []   \n",
       "1        None             None      1504917                  []   \n",
       "2        None             None      1504919                  []   \n",
       "\n",
       "  assay_chembl_id              assay_description assay_type  \\\n",
       "0    CHEMBL827045  Inhibition of Aurora kinase A          B   \n",
       "1    CHEMBL827045  Inhibition of Aurora kinase A          B   \n",
       "2    CHEMBL827045  Inhibition of Aurora kinase A          B   \n",
       "\n",
       "  assay_variant_accession assay_variant_mutation bao_endpoint  ...  \\\n",
       "0                    None                   None  BAO_0000190  ...   \n",
       "1                    None                   None  BAO_0000190  ...   \n",
       "2                    None                   None  BAO_0000190  ...   \n",
       "\n",
       "  target_organism                          target_pref_name target_tax_id  \\\n",
       "0    Homo sapiens  Serine/threonine-protein kinase Aurora-A          9606   \n",
       "1    Homo sapiens  Serine/threonine-protein kinase Aurora-A          9606   \n",
       "2    Homo sapiens  Serine/threonine-protein kinase Aurora-A          9606   \n",
       "\n",
       "  text_value  toid  type units    uo_units upper_value  value  \n",
       "0       None  None  IC50    uM  UO_0000065        None  0.005  \n",
       "1       None  None  IC50    uM  UO_0000065        None  0.041  \n",
       "2       None  None  IC50    uM  UO_0000065        None   0.13  \n",
       "\n",
       "[3 rows x 46 columns]"
      ]
     },
     "execution_count": 95,
     "metadata": {},
     "output_type": "execute_result"
    }
   ],
   "source": [
    "df = df[df.standard_value.notna()]\n",
    "df = df[df.canonical_smiles.notna()]\n",
    "df.head(3)"
   ]
  },
  {
   "cell_type": "code",
   "execution_count": 96,
   "metadata": {},
   "outputs": [
    {
     "data": {
      "text/plain": [
       "(3656,)"
      ]
     },
     "execution_count": 96,
     "metadata": {},
     "output_type": "execute_result"
    }
   ],
   "source": [
    "df.units.shape"
   ]
  },
  {
   "cell_type": "code",
   "execution_count": 97,
   "metadata": {},
   "outputs": [
    {
     "data": {
      "text/plain": [
       "nM           1970\n",
       "uM           1603\n",
       "10'-6g/ml       6\n",
       "mM              5\n",
       "ug ml-1         4\n",
       "10'-8M          3\n",
       "10'-7g/ml       2\n",
       "10'-5g/ml       2\n",
       "µM              2\n",
       "umol            1\n",
       "M               1\n",
       "10'-9M          1\n",
       "10^-10M         1\n",
       "Name: units, dtype: int64"
      ]
     },
     "execution_count": 97,
     "metadata": {},
     "output_type": "execute_result"
    }
   ],
   "source": [
    "df['units'].value_counts()"
   ]
  },
  {
   "cell_type": "code",
   "execution_count": 98,
   "metadata": {},
   "outputs": [
    {
     "data": {
      "text/plain": [
       "1970"
      ]
     },
     "execution_count": 98,
     "metadata": {},
     "output_type": "execute_result"
    }
   ],
   "source": [
    "df = df[(df['units'] == 'nM')]\n",
    "len(df)"
   ]
  },
  {
   "cell_type": "code",
   "execution_count": 99,
   "metadata": {},
   "outputs": [],
   "source": [
    "#Store 'value' in a list \n",
    "fix = []\n",
    "\n",
    "for i in df.value:\n",
    "    fix.append(float(i))"
   ]
  },
  {
   "cell_type": "code",
   "execution_count": 100,
   "metadata": {},
   "outputs": [],
   "source": [
    "# define active, inactive, intermediate compounds ------\n",
    "\n",
    "STATUS = []\n",
    "\n",
    "for i in fix:\n",
    "    if i <=1000:\n",
    "        STATUS.append(\"Active\") #active\n",
    "        \n",
    "    elif i >=10000:\n",
    "        STATUS.append(\"Inactive\") #inactive\n",
    "        \n",
    "    else:\n",
    "        STATUS.append(\"Intermediate\") #intermediate"
   ]
  },
  {
   "cell_type": "code",
   "execution_count": 101,
   "metadata": {},
   "outputs": [
    {
     "name": "stderr",
     "output_type": "stream",
     "text": [
      "/var/folders/j5/x5zjmsdn2jqdnz5jwrvhzq5h0000gn/T/ipykernel_2836/1680363136.py:2: FutureWarning: In a future version of pandas all arguments of DataFrame.drop except for the argument 'labels' will be keyword-only.\n",
      "  df = df.drop('value',1)\n"
     ]
    },
    {
     "data": {
      "text/html": [
       "<div>\n",
       "<style scoped>\n",
       "    .dataframe tbody tr th:only-of-type {\n",
       "        vertical-align: middle;\n",
       "    }\n",
       "\n",
       "    .dataframe tbody tr th {\n",
       "        vertical-align: top;\n",
       "    }\n",
       "\n",
       "    .dataframe thead th {\n",
       "        text-align: right;\n",
       "    }\n",
       "</style>\n",
       "<table border=\"1\" class=\"dataframe\">\n",
       "  <thead>\n",
       "    <tr style=\"text-align: right;\">\n",
       "      <th></th>\n",
       "      <th>action_type</th>\n",
       "      <th>activity_comment</th>\n",
       "      <th>activity_id</th>\n",
       "      <th>activity_properties</th>\n",
       "      <th>assay_chembl_id</th>\n",
       "      <th>assay_description</th>\n",
       "      <th>assay_type</th>\n",
       "      <th>assay_variant_accession</th>\n",
       "      <th>assay_variant_mutation</th>\n",
       "      <th>bao_endpoint</th>\n",
       "      <th>...</th>\n",
       "      <th>target_pref_name</th>\n",
       "      <th>target_tax_id</th>\n",
       "      <th>text_value</th>\n",
       "      <th>toid</th>\n",
       "      <th>type</th>\n",
       "      <th>units</th>\n",
       "      <th>uo_units</th>\n",
       "      <th>upper_value</th>\n",
       "      <th>value</th>\n",
       "      <th>STATUS</th>\n",
       "    </tr>\n",
       "  </thead>\n",
       "  <tbody>\n",
       "    <tr>\n",
       "      <th>8</th>\n",
       "      <td>None</td>\n",
       "      <td>None</td>\n",
       "      <td>1504939</td>\n",
       "      <td>[]</td>\n",
       "      <td>CHEMBL831065</td>\n",
       "      <td>Inhibitory activity against Aurora kinase A</td>\n",
       "      <td>B</td>\n",
       "      <td>None</td>\n",
       "      <td>None</td>\n",
       "      <td>BAO_0000190</td>\n",
       "      <td>...</td>\n",
       "      <td>Serine/threonine-protein kinase Aurora-A</td>\n",
       "      <td>9606</td>\n",
       "      <td>None</td>\n",
       "      <td>None</td>\n",
       "      <td>IC50</td>\n",
       "      <td>nM</td>\n",
       "      <td>UO_0000065</td>\n",
       "      <td>None</td>\n",
       "      <td>27.0</td>\n",
       "      <td>Active</td>\n",
       "    </tr>\n",
       "    <tr>\n",
       "      <th>9</th>\n",
       "      <td>None</td>\n",
       "      <td>None</td>\n",
       "      <td>1507327</td>\n",
       "      <td>[]</td>\n",
       "      <td>CHEMBL827052</td>\n",
       "      <td>Inhibition of Aurora kinase A (Aur1)</td>\n",
       "      <td>B</td>\n",
       "      <td>None</td>\n",
       "      <td>None</td>\n",
       "      <td>BAO_0000190</td>\n",
       "      <td>...</td>\n",
       "      <td>Serine/threonine-protein kinase Aurora-A</td>\n",
       "      <td>9606</td>\n",
       "      <td>None</td>\n",
       "      <td>None</td>\n",
       "      <td>IC50</td>\n",
       "      <td>nM</td>\n",
       "      <td>UO_0000065</td>\n",
       "      <td>None</td>\n",
       "      <td>3229.0</td>\n",
       "      <td>Intermediate</td>\n",
       "    </tr>\n",
       "    <tr>\n",
       "      <th>10</th>\n",
       "      <td>None</td>\n",
       "      <td>None</td>\n",
       "      <td>1507343</td>\n",
       "      <td>[]</td>\n",
       "      <td>CHEMBL827052</td>\n",
       "      <td>Inhibition of Aurora kinase A (Aur1)</td>\n",
       "      <td>B</td>\n",
       "      <td>None</td>\n",
       "      <td>None</td>\n",
       "      <td>BAO_0000190</td>\n",
       "      <td>...</td>\n",
       "      <td>Serine/threonine-protein kinase Aurora-A</td>\n",
       "      <td>9606</td>\n",
       "      <td>None</td>\n",
       "      <td>None</td>\n",
       "      <td>IC50</td>\n",
       "      <td>nM</td>\n",
       "      <td>UO_0000065</td>\n",
       "      <td>None</td>\n",
       "      <td>10000.0</td>\n",
       "      <td>Inactive</td>\n",
       "    </tr>\n",
       "  </tbody>\n",
       "</table>\n",
       "<p>3 rows × 47 columns</p>\n",
       "</div>"
      ],
      "text/plain": [
       "   action_type activity_comment  activity_id activity_properties  \\\n",
       "8         None             None      1504939                  []   \n",
       "9         None             None      1507327                  []   \n",
       "10        None             None      1507343                  []   \n",
       "\n",
       "   assay_chembl_id                            assay_description assay_type  \\\n",
       "8     CHEMBL831065  Inhibitory activity against Aurora kinase A          B   \n",
       "9     CHEMBL827052         Inhibition of Aurora kinase A (Aur1)          B   \n",
       "10    CHEMBL827052         Inhibition of Aurora kinase A (Aur1)          B   \n",
       "\n",
       "   assay_variant_accession assay_variant_mutation bao_endpoint  ...  \\\n",
       "8                     None                   None  BAO_0000190  ...   \n",
       "9                     None                   None  BAO_0000190  ...   \n",
       "10                    None                   None  BAO_0000190  ...   \n",
       "\n",
       "                            target_pref_name target_tax_id text_value  toid  \\\n",
       "8   Serine/threonine-protein kinase Aurora-A          9606       None  None   \n",
       "9   Serine/threonine-protein kinase Aurora-A          9606       None  None   \n",
       "10  Serine/threonine-protein kinase Aurora-A          9606       None  None   \n",
       "\n",
       "    type units    uo_units  upper_value    value        STATUS  \n",
       "8   IC50    nM  UO_0000065         None     27.0        Active  \n",
       "9   IC50    nM  UO_0000065         None   3229.0  Intermediate  \n",
       "10  IC50    nM  UO_0000065         None  10000.0      Inactive  \n",
       "\n",
       "[3 rows x 47 columns]"
      ]
     },
     "execution_count": 101,
     "metadata": {},
     "output_type": "execute_result"
    }
   ],
   "source": [
    "# replace new value from fix list\n",
    "df = df.drop('value',1)\n",
    "df['value'] = fix\n",
    "df['STATUS'] = STATUS\n",
    "df.head(3)"
   ]
  },
  {
   "cell_type": "code",
   "execution_count": 102,
   "metadata": {},
   "outputs": [
    {
     "data": {
      "text/html": [
       "<div>\n",
       "<style scoped>\n",
       "    .dataframe tbody tr th:only-of-type {\n",
       "        vertical-align: middle;\n",
       "    }\n",
       "\n",
       "    .dataframe tbody tr th {\n",
       "        vertical-align: top;\n",
       "    }\n",
       "\n",
       "    .dataframe thead th {\n",
       "        text-align: right;\n",
       "    }\n",
       "</style>\n",
       "<table border=\"1\" class=\"dataframe\">\n",
       "  <thead>\n",
       "    <tr style=\"text-align: right;\">\n",
       "      <th></th>\n",
       "      <th>action_type</th>\n",
       "      <th>activity_comment</th>\n",
       "      <th>activity_id</th>\n",
       "      <th>activity_properties</th>\n",
       "      <th>assay_chembl_id</th>\n",
       "      <th>assay_description</th>\n",
       "      <th>assay_type</th>\n",
       "      <th>assay_variant_accession</th>\n",
       "      <th>assay_variant_mutation</th>\n",
       "      <th>bao_endpoint</th>\n",
       "      <th>...</th>\n",
       "      <th>target_pref_name</th>\n",
       "      <th>target_tax_id</th>\n",
       "      <th>text_value</th>\n",
       "      <th>toid</th>\n",
       "      <th>type</th>\n",
       "      <th>units</th>\n",
       "      <th>uo_units</th>\n",
       "      <th>upper_value</th>\n",
       "      <th>value</th>\n",
       "      <th>STATUS</th>\n",
       "    </tr>\n",
       "  </thead>\n",
       "  <tbody>\n",
       "    <tr>\n",
       "      <th>8</th>\n",
       "      <td>None</td>\n",
       "      <td>None</td>\n",
       "      <td>1504939</td>\n",
       "      <td>[]</td>\n",
       "      <td>CHEMBL831065</td>\n",
       "      <td>Inhibitory activity against Aurora kinase A</td>\n",
       "      <td>B</td>\n",
       "      <td>None</td>\n",
       "      <td>None</td>\n",
       "      <td>BAO_0000190</td>\n",
       "      <td>...</td>\n",
       "      <td>Serine/threonine-protein kinase Aurora-A</td>\n",
       "      <td>9606</td>\n",
       "      <td>None</td>\n",
       "      <td>None</td>\n",
       "      <td>IC50</td>\n",
       "      <td>nM</td>\n",
       "      <td>UO_0000065</td>\n",
       "      <td>None</td>\n",
       "      <td>27.0</td>\n",
       "      <td>Active</td>\n",
       "    </tr>\n",
       "    <tr>\n",
       "      <th>9</th>\n",
       "      <td>None</td>\n",
       "      <td>None</td>\n",
       "      <td>1507327</td>\n",
       "      <td>[]</td>\n",
       "      <td>CHEMBL827052</td>\n",
       "      <td>Inhibition of Aurora kinase A (Aur1)</td>\n",
       "      <td>B</td>\n",
       "      <td>None</td>\n",
       "      <td>None</td>\n",
       "      <td>BAO_0000190</td>\n",
       "      <td>...</td>\n",
       "      <td>Serine/threonine-protein kinase Aurora-A</td>\n",
       "      <td>9606</td>\n",
       "      <td>None</td>\n",
       "      <td>None</td>\n",
       "      <td>IC50</td>\n",
       "      <td>nM</td>\n",
       "      <td>UO_0000065</td>\n",
       "      <td>None</td>\n",
       "      <td>3229.0</td>\n",
       "      <td>Intermediate</td>\n",
       "    </tr>\n",
       "    <tr>\n",
       "      <th>10</th>\n",
       "      <td>None</td>\n",
       "      <td>None</td>\n",
       "      <td>1507343</td>\n",
       "      <td>[]</td>\n",
       "      <td>CHEMBL827052</td>\n",
       "      <td>Inhibition of Aurora kinase A (Aur1)</td>\n",
       "      <td>B</td>\n",
       "      <td>None</td>\n",
       "      <td>None</td>\n",
       "      <td>BAO_0000190</td>\n",
       "      <td>...</td>\n",
       "      <td>Serine/threonine-protein kinase Aurora-A</td>\n",
       "      <td>9606</td>\n",
       "      <td>None</td>\n",
       "      <td>None</td>\n",
       "      <td>IC50</td>\n",
       "      <td>nM</td>\n",
       "      <td>UO_0000065</td>\n",
       "      <td>None</td>\n",
       "      <td>10000.0</td>\n",
       "      <td>Inactive</td>\n",
       "    </tr>\n",
       "  </tbody>\n",
       "</table>\n",
       "<p>3 rows × 47 columns</p>\n",
       "</div>"
      ],
      "text/plain": [
       "   action_type activity_comment  activity_id activity_properties  \\\n",
       "8         None             None      1504939                  []   \n",
       "9         None             None      1507327                  []   \n",
       "10        None             None      1507343                  []   \n",
       "\n",
       "   assay_chembl_id                            assay_description assay_type  \\\n",
       "8     CHEMBL831065  Inhibitory activity against Aurora kinase A          B   \n",
       "9     CHEMBL827052         Inhibition of Aurora kinase A (Aur1)          B   \n",
       "10    CHEMBL827052         Inhibition of Aurora kinase A (Aur1)          B   \n",
       "\n",
       "   assay_variant_accession assay_variant_mutation bao_endpoint  ...  \\\n",
       "8                     None                   None  BAO_0000190  ...   \n",
       "9                     None                   None  BAO_0000190  ...   \n",
       "10                    None                   None  BAO_0000190  ...   \n",
       "\n",
       "                            target_pref_name target_tax_id text_value  toid  \\\n",
       "8   Serine/threonine-protein kinase Aurora-A          9606       None  None   \n",
       "9   Serine/threonine-protein kinase Aurora-A          9606       None  None   \n",
       "10  Serine/threonine-protein kinase Aurora-A          9606       None  None   \n",
       "\n",
       "    type units    uo_units  upper_value    value        STATUS  \n",
       "8   IC50    nM  UO_0000065         None     27.0        Active  \n",
       "9   IC50    nM  UO_0000065         None   3229.0  Intermediate  \n",
       "10  IC50    nM  UO_0000065         None  10000.0      Inactive  \n",
       "\n",
       "[3 rows x 47 columns]"
      ]
     },
     "execution_count": 102,
     "metadata": {},
     "output_type": "execute_result"
    }
   ],
   "source": [
    "df['STATUS'] = STATUS\n",
    "df.head(3)"
   ]
  },
  {
   "cell_type": "code",
   "execution_count": 103,
   "metadata": {
    "scrolled": true
   },
   "outputs": [
    {
     "data": {
      "text/plain": [
       "Enzyme Assay: The Aurora assays described here are performed on two Caliper Life Sciences systems: the LC3000 and the Desktop Profiler. These provide data on enzyme activity via measurement of the relative amounts of phosphorylated or unphosphorylated fluorescently labelled substrate peptide at the end of an enzymatic reaction. These different states of peptide are resolved by applying a potential difference across the sample. The presence of the charged phosphate group on the product (as opposed to the substrate) causes a different peptide mobility between the two peptides. This is visualized by excitation of the fluorescent label on the substrate and product peptides and represented as peaks within the analysis software.    634\n",
       "Inhibition of Aurora A                                                                                                                                                                                                                                                                                                                                                                                                                                                                                                                                                                                                                                                                                                                                          142\n",
       "In Vitro Aurora A Activity Assay (DiscoverX): Reactions were carried out at room temperature in 15 mM HEPES buffer (pH 7.4) containing 20 mM NaCl, 1 mM EGTA, 0.02% Tween 20, 10 mM MgCl2, 5% (v/v) DMSO, and 2.3 nM Aurora A Inhibitor was added to the mixture, and the reaction was initiated by the addition of 75 uM ATP and 2 mM peptide substrate. All kinetic assays were performed in 384-well plates using a Wallac Envision 2102 plate reader (Perkin Elmer).                                                                                                                                                                                                                                                                                         80\n",
       "Inhibition of aurora A kinase using 5TAMRA-GRTGRRNSICOOH as substrate by fluorescent assay                                                                                                                                                                                                                                                                                                                                                                                                                                                                                                                                                                                                                                                                       62\n",
       "Inhibition of Aurora A kinase expressed in Escherichia coli using LRRASLG as substrate by coupled enzyme assay                                                                                                                                                                                                                                                                                                                                                                                                                                                                                                                                                                                                                                                   55\n",
       "                                                                                                                                                                                                                                                                                                                                                                                                                                                                                                                                                                                                                                                                                                                                                               ... \n",
       "Enzyme Assay-Time Dependence: Compounds were assessed for their ability to inhibit the enzymatic activity of a recombinant form of Glutaminase 1 (GAC) using a biochemical assay that couples the production of glutamate (liberated by GAC) to glutamate dehydrogenase (GDH) and measuring the change in absorbance for the reduction of NAD+ to NADH.                                                                                                                                                                                                                                                                                                                                                                                                           1\n",
       "Inhibition of human AURKA                                                                                                                                                                                                                                                                                                                                                                                                                                                                                                                                                                                                                                                                                                                                         1\n",
       "Inhibition of human recombinant His-tagged Aurora A expressed in Escherichia coli using RRR(GLRRASLG)4R-NH2 as substrate after 40 mins in presence of [gamma-33P]-ATP by liquid scintillation counting                                                                                                                                                                                                                                                                                                                                                                                                                                                                                                                                                            1\n",
       "Inhibition of Aurora A (unknown origin) after 1 hr by HTRF assay                                                                                                                                                                                                                                                                                                                                                                                                                                                                                                                                                                                                                                                                                                  1\n",
       "Inhibition of recombinant GST Aurora A kinase (unknown origin) expressed in Sf9 insect cells incubated for 90 mins in presence of ATP                                                                                                                                                                                                                                                                                                                                                                                                                                                                                                                                                                                                                             1\n",
       "Name: assay_description, Length: 150, dtype: int64"
      ]
     },
     "execution_count": 103,
     "metadata": {},
     "output_type": "execute_result"
    }
   ],
   "source": [
    "df['assay_description'].value_counts()"
   ]
  },
  {
   "cell_type": "code",
   "execution_count": 104,
   "metadata": {},
   "outputs": [],
   "source": [
    "#df = df.rename(columns={'molcule_chembl_id': 'chemblId'})"
   ]
  },
  {
   "cell_type": "code",
   "execution_count": 105,
   "metadata": {},
   "outputs": [],
   "source": [
    "#df"
   ]
  },
  {
   "cell_type": "code",
   "execution_count": 106,
   "metadata": {},
   "outputs": [
    {
     "data": {
      "text/plain": [
       "(1970, 1715)"
      ]
     },
     "execution_count": 106,
     "metadata": {},
     "output_type": "execute_result"
    }
   ],
   "source": [
    "len(df), len(df['molecule_chembl_id'].unique())"
   ]
  },
  {
   "cell_type": "code",
   "execution_count": 107,
   "metadata": {},
   "outputs": [
    {
     "data": {
      "text/html": [
       "<div>\n",
       "<style scoped>\n",
       "    .dataframe tbody tr th:only-of-type {\n",
       "        vertical-align: middle;\n",
       "    }\n",
       "\n",
       "    .dataframe tbody tr th {\n",
       "        vertical-align: top;\n",
       "    }\n",
       "\n",
       "    .dataframe thead th {\n",
       "        text-align: right;\n",
       "    }\n",
       "</style>\n",
       "<table border=\"1\" class=\"dataframe\">\n",
       "  <thead>\n",
       "    <tr style=\"text-align: right;\">\n",
       "      <th></th>\n",
       "      <th>action_type</th>\n",
       "      <th>activity_comment</th>\n",
       "      <th>activity_id</th>\n",
       "      <th>activity_properties</th>\n",
       "      <th>assay_chembl_id</th>\n",
       "      <th>assay_description</th>\n",
       "      <th>assay_type</th>\n",
       "      <th>assay_variant_accession</th>\n",
       "      <th>assay_variant_mutation</th>\n",
       "      <th>bao_endpoint</th>\n",
       "      <th>...</th>\n",
       "      <th>target_pref_name</th>\n",
       "      <th>target_tax_id</th>\n",
       "      <th>text_value</th>\n",
       "      <th>toid</th>\n",
       "      <th>type</th>\n",
       "      <th>units</th>\n",
       "      <th>uo_units</th>\n",
       "      <th>upper_value</th>\n",
       "      <th>value</th>\n",
       "      <th>STATUS</th>\n",
       "    </tr>\n",
       "  </thead>\n",
       "  <tbody>\n",
       "    <tr>\n",
       "      <th>3722</th>\n",
       "      <td>None</td>\n",
       "      <td>None</td>\n",
       "      <td>24958542</td>\n",
       "      <td>[{'comments': None, 'relation': None, 'result_...</td>\n",
       "      <td>CHEMBL5212975</td>\n",
       "      <td>Selectivity interaction (Enzymatic assay) EUB0...</td>\n",
       "      <td>B</td>\n",
       "      <td>None</td>\n",
       "      <td>None</td>\n",
       "      <td>BAO_0000190</td>\n",
       "      <td>...</td>\n",
       "      <td>Serine/threonine-protein kinase Aurora-A</td>\n",
       "      <td>9606</td>\n",
       "      <td>None</td>\n",
       "      <td>None</td>\n",
       "      <td>IC50</td>\n",
       "      <td>nM</td>\n",
       "      <td>UO_0000065</td>\n",
       "      <td>None</td>\n",
       "      <td>19.4</td>\n",
       "      <td>Active</td>\n",
       "    </tr>\n",
       "    <tr>\n",
       "      <th>3724</th>\n",
       "      <td>{'action_type': 'INHIBITOR', 'description': 'N...</td>\n",
       "      <td>None</td>\n",
       "      <td>24959160</td>\n",
       "      <td>[{'comments': None, 'relation': '=', 'result_f...</td>\n",
       "      <td>CHEMBL5215249</td>\n",
       "      <td>Inhibition of recombinant GST Aurora A kinase ...</td>\n",
       "      <td>B</td>\n",
       "      <td>None</td>\n",
       "      <td>None</td>\n",
       "      <td>BAO_0000190</td>\n",
       "      <td>...</td>\n",
       "      <td>Serine/threonine-protein kinase Aurora-A</td>\n",
       "      <td>9606</td>\n",
       "      <td>None</td>\n",
       "      <td>None</td>\n",
       "      <td>IC50</td>\n",
       "      <td>nM</td>\n",
       "      <td>UO_0000065</td>\n",
       "      <td>None</td>\n",
       "      <td>22.0</td>\n",
       "      <td>Active</td>\n",
       "    </tr>\n",
       "  </tbody>\n",
       "</table>\n",
       "<p>2 rows × 47 columns</p>\n",
       "</div>"
      ],
      "text/plain": [
       "                                            action_type activity_comment  \\\n",
       "3722                                               None             None   \n",
       "3724  {'action_type': 'INHIBITOR', 'description': 'N...             None   \n",
       "\n",
       "      activity_id                                activity_properties  \\\n",
       "3722     24958542  [{'comments': None, 'relation': None, 'result_...   \n",
       "3724     24959160  [{'comments': None, 'relation': '=', 'result_f...   \n",
       "\n",
       "     assay_chembl_id                                  assay_description  \\\n",
       "3722   CHEMBL5212975  Selectivity interaction (Enzymatic assay) EUB0...   \n",
       "3724   CHEMBL5215249  Inhibition of recombinant GST Aurora A kinase ...   \n",
       "\n",
       "     assay_type assay_variant_accession assay_variant_mutation bao_endpoint  \\\n",
       "3722          B                    None                   None  BAO_0000190   \n",
       "3724          B                    None                   None  BAO_0000190   \n",
       "\n",
       "      ...                          target_pref_name target_tax_id text_value  \\\n",
       "3722  ...  Serine/threonine-protein kinase Aurora-A          9606       None   \n",
       "3724  ...  Serine/threonine-protein kinase Aurora-A          9606       None   \n",
       "\n",
       "      toid  type units    uo_units  upper_value value  STATUS  \n",
       "3722  None  IC50    nM  UO_0000065         None  19.4  Active  \n",
       "3724  None  IC50    nM  UO_0000065         None  22.0  Active  \n",
       "\n",
       "[2 rows x 47 columns]"
      ]
     },
     "execution_count": 107,
     "metadata": {},
     "output_type": "execute_result"
    }
   ],
   "source": [
    "df.tail(2)"
   ]
  },
  {
   "cell_type": "code",
   "execution_count": 108,
   "metadata": {},
   "outputs": [],
   "source": [
    "# clean smiles\n",
    "\n",
    "from rdkit.Chem.SaltRemover import SaltRemover\n",
    "from rdkit.Chem import MolFromSmiles,MolToSmiles\n",
    "\n",
    "def clean_smiles (ListSMILEs):\n",
    "    remover = SaltRemover()\n",
    "    len(remover.salts)\n",
    "\n",
    "    SMILES_desalt = []\n",
    "\n",
    "    for i in ListSMILEs:\n",
    "        mol = MolFromSmiles(i) \n",
    "        mol_desalt = remover.StripMol(mol)\n",
    "        mol_SMILES = MolToSmiles(mol_desalt)\n",
    "        SMILES_desalt.append(mol_SMILES)\n",
    "    return SMILES_desalt"
   ]
  },
  {
   "cell_type": "code",
   "execution_count": 109,
   "metadata": {},
   "outputs": [],
   "source": [
    "df['SMILES_desalt'] = clean_smiles(df.canonical_smiles)"
   ]
  },
  {
   "cell_type": "code",
   "execution_count": 110,
   "metadata": {},
   "outputs": [
    {
     "name": "stdout",
     "output_type": "stream",
     "text": [
      "RAW data of 1707 SMILES has been reduced to 1707 SMILES.\n"
     ]
    }
   ],
   "source": [
    "df= df.drop_duplicates(\\\n",
    "                    subset='SMILES_desalt', keep='last')\n",
    "\n",
    "print (\"RAW data of \" + str(len(df)) + \\\n",
    "          \" SMILES has been reduced to \" \\\n",
    "          + str(len(df)) + \" SMILES.\")"
   ]
  },
  {
   "cell_type": "code",
   "execution_count": 111,
   "metadata": {},
   "outputs": [
    {
     "data": {
      "text/html": [
       "<div>\n",
       "<style scoped>\n",
       "    .dataframe tbody tr th:only-of-type {\n",
       "        vertical-align: middle;\n",
       "    }\n",
       "\n",
       "    .dataframe tbody tr th {\n",
       "        vertical-align: top;\n",
       "    }\n",
       "\n",
       "    .dataframe thead th {\n",
       "        text-align: right;\n",
       "    }\n",
       "</style>\n",
       "<table border=\"1\" class=\"dataframe\">\n",
       "  <thead>\n",
       "    <tr style=\"text-align: right;\">\n",
       "      <th></th>\n",
       "      <th>molecule_chembl_id</th>\n",
       "      <th>canonical_smiles</th>\n",
       "      <th>standard_value</th>\n",
       "      <th>SMILES_desalt</th>\n",
       "      <th>STATUS</th>\n",
       "    </tr>\n",
       "  </thead>\n",
       "  <tbody>\n",
       "    <tr>\n",
       "      <th>9</th>\n",
       "      <td>CHEMBL425904</td>\n",
       "      <td>CC(CN(C)C)Oc1ccc(Cl)cc1NC(=O)Nc1cnc(C#N)cn1</td>\n",
       "      <td>3229.0</td>\n",
       "      <td>CC(CN(C)C)Oc1ccc(Cl)cc1NC(=O)Nc1cnc(C#N)cn1</td>\n",
       "      <td>Intermediate</td>\n",
       "    </tr>\n",
       "    <tr>\n",
       "      <th>10</th>\n",
       "      <td>CHEMBL192161</td>\n",
       "      <td>CC1(COc2ccc(Cl)cc2NC(=O)Nc2cnc(C#N)cn2)COC1</td>\n",
       "      <td>10000.0</td>\n",
       "      <td>CC1(COc2ccc(Cl)cc2NC(=O)Nc2cnc(C#N)cn2)COC1</td>\n",
       "      <td>Inactive</td>\n",
       "    </tr>\n",
       "    <tr>\n",
       "      <th>68</th>\n",
       "      <td>CHEMBL204318</td>\n",
       "      <td>CCCCC(=O)Nc1ncc(Nc2ncnc3cc(OCCCN4CCOCC4)c(OC)c...</td>\n",
       "      <td>17.0</td>\n",
       "      <td>CCCCC(=O)Nc1ncc(Nc2ncnc3cc(OCCCN4CCOCC4)c(OC)c...</td>\n",
       "      <td>Active</td>\n",
       "    </tr>\n",
       "    <tr>\n",
       "      <th>69</th>\n",
       "      <td>CHEMBL203507</td>\n",
       "      <td>COc1cc2c(Nc3cnc(NC(=O)c4ccncc4)nc3)ncnc2cc1OCC...</td>\n",
       "      <td>690.0</td>\n",
       "      <td>COc1cc2c(Nc3cnc(NC(=O)c4ccncc4)nc3)ncnc2cc1OCC...</td>\n",
       "      <td>Active</td>\n",
       "    </tr>\n",
       "    <tr>\n",
       "      <th>70</th>\n",
       "      <td>CHEMBL206374</td>\n",
       "      <td>CCCN(CCC)S(=O)(=O)c1ccc(C(=O)Nc2ncc(Nc3ncnc4cc...</td>\n",
       "      <td>3900.0</td>\n",
       "      <td>CCCN(CCC)S(=O)(=O)c1ccc(C(=O)Nc2ncc(Nc3ncnc4cc...</td>\n",
       "      <td>Intermediate</td>\n",
       "    </tr>\n",
       "    <tr>\n",
       "      <th>...</th>\n",
       "      <td>...</td>\n",
       "      <td>...</td>\n",
       "      <td>...</td>\n",
       "      <td>...</td>\n",
       "      <td>...</td>\n",
       "    </tr>\n",
       "    <tr>\n",
       "      <th>3719</th>\n",
       "      <td>CHEMBL514499</td>\n",
       "      <td>COc1cc2ncn(-c3cc(OCc4ccccc4C(F)(F)F)c(C(N)=O)s...</td>\n",
       "      <td>4800.0</td>\n",
       "      <td>COc1cc2ncn(-c3cc(OCc4ccccc4C(F)(F)F)c(C(N)=O)s...</td>\n",
       "      <td>Intermediate</td>\n",
       "    </tr>\n",
       "    <tr>\n",
       "      <th>3720</th>\n",
       "      <td>CHEMBL3808844</td>\n",
       "      <td>CCOc1cn(-c2ccc(F)cc2C)nc1C(=O)Nc1ccc(Oc2ccnc3c...</td>\n",
       "      <td>36.0</td>\n",
       "      <td>CCOc1cn(-c2ccc(F)cc2C)nc1C(=O)Nc1ccc(Oc2ccnc3c...</td>\n",
       "      <td>Active</td>\n",
       "    </tr>\n",
       "    <tr>\n",
       "      <th>3721</th>\n",
       "      <td>CHEMBL3990456</td>\n",
       "      <td>Cn1cc(-c2[nH]c3cc(NC(=O)[C@H](N)C4CCCCC4)cc4c3...</td>\n",
       "      <td>23.0</td>\n",
       "      <td>Cn1cc(-c2[nH]c3cc(NC(=O)[C@H](N)C4CCCCC4)cc4c3...</td>\n",
       "      <td>Active</td>\n",
       "    </tr>\n",
       "    <tr>\n",
       "      <th>3722</th>\n",
       "      <td>CHEMBL4554938</td>\n",
       "      <td>CN1C(=O)c2sccc2N(C)c2nc(Nc3ccc(S(N)(=O)=O)cc3)...</td>\n",
       "      <td>19.4</td>\n",
       "      <td>CN1C(=O)c2sccc2N(C)c2nc(Nc3ccc(S(N)(=O)=O)cc3)...</td>\n",
       "      <td>Active</td>\n",
       "    </tr>\n",
       "    <tr>\n",
       "      <th>3724</th>\n",
       "      <td>CHEMBL4864729</td>\n",
       "      <td>CN(C)CCCOc1ccc2c(NCCc3cnc(NC(=O)Nc4cccc(Cl)c4)...</td>\n",
       "      <td>22.0</td>\n",
       "      <td>CN(C)CCCOc1ccc2c(NCCc3cnc(NC(=O)Nc4cccc(Cl)c4)...</td>\n",
       "      <td>Active</td>\n",
       "    </tr>\n",
       "  </tbody>\n",
       "</table>\n",
       "<p>1707 rows × 5 columns</p>\n",
       "</div>"
      ],
      "text/plain": [
       "     molecule_chembl_id                                   canonical_smiles  \\\n",
       "9          CHEMBL425904        CC(CN(C)C)Oc1ccc(Cl)cc1NC(=O)Nc1cnc(C#N)cn1   \n",
       "10         CHEMBL192161        CC1(COc2ccc(Cl)cc2NC(=O)Nc2cnc(C#N)cn2)COC1   \n",
       "68         CHEMBL204318  CCCCC(=O)Nc1ncc(Nc2ncnc3cc(OCCCN4CCOCC4)c(OC)c...   \n",
       "69         CHEMBL203507  COc1cc2c(Nc3cnc(NC(=O)c4ccncc4)nc3)ncnc2cc1OCC...   \n",
       "70         CHEMBL206374  CCCN(CCC)S(=O)(=O)c1ccc(C(=O)Nc2ncc(Nc3ncnc4cc...   \n",
       "...                 ...                                                ...   \n",
       "3719       CHEMBL514499  COc1cc2ncn(-c3cc(OCc4ccccc4C(F)(F)F)c(C(N)=O)s...   \n",
       "3720      CHEMBL3808844  CCOc1cn(-c2ccc(F)cc2C)nc1C(=O)Nc1ccc(Oc2ccnc3c...   \n",
       "3721      CHEMBL3990456  Cn1cc(-c2[nH]c3cc(NC(=O)[C@H](N)C4CCCCC4)cc4c3...   \n",
       "3722      CHEMBL4554938  CN1C(=O)c2sccc2N(C)c2nc(Nc3ccc(S(N)(=O)=O)cc3)...   \n",
       "3724      CHEMBL4864729  CN(C)CCCOc1ccc2c(NCCc3cnc(NC(=O)Nc4cccc(Cl)c4)...   \n",
       "\n",
       "     standard_value                                      SMILES_desalt  \\\n",
       "9            3229.0        CC(CN(C)C)Oc1ccc(Cl)cc1NC(=O)Nc1cnc(C#N)cn1   \n",
       "10          10000.0        CC1(COc2ccc(Cl)cc2NC(=O)Nc2cnc(C#N)cn2)COC1   \n",
       "68             17.0  CCCCC(=O)Nc1ncc(Nc2ncnc3cc(OCCCN4CCOCC4)c(OC)c...   \n",
       "69            690.0  COc1cc2c(Nc3cnc(NC(=O)c4ccncc4)nc3)ncnc2cc1OCC...   \n",
       "70           3900.0  CCCN(CCC)S(=O)(=O)c1ccc(C(=O)Nc2ncc(Nc3ncnc4cc...   \n",
       "...             ...                                                ...   \n",
       "3719         4800.0  COc1cc2ncn(-c3cc(OCc4ccccc4C(F)(F)F)c(C(N)=O)s...   \n",
       "3720           36.0  CCOc1cn(-c2ccc(F)cc2C)nc1C(=O)Nc1ccc(Oc2ccnc3c...   \n",
       "3721           23.0  Cn1cc(-c2[nH]c3cc(NC(=O)[C@H](N)C4CCCCC4)cc4c3...   \n",
       "3722           19.4  CN1C(=O)c2sccc2N(C)c2nc(Nc3ccc(S(N)(=O)=O)cc3)...   \n",
       "3724           22.0  CN(C)CCCOc1ccc2c(NCCc3cnc(NC(=O)Nc4cccc(Cl)c4)...   \n",
       "\n",
       "            STATUS  \n",
       "9     Intermediate  \n",
       "10        Inactive  \n",
       "68          Active  \n",
       "69          Active  \n",
       "70    Intermediate  \n",
       "...            ...  \n",
       "3719  Intermediate  \n",
       "3720        Active  \n",
       "3721        Active  \n",
       "3722        Active  \n",
       "3724        Active  \n",
       "\n",
       "[1707 rows x 5 columns]"
      ]
     },
     "execution_count": 111,
     "metadata": {},
     "output_type": "execute_result"
    }
   ],
   "source": [
    "selection = ['molecule_chembl_id','canonical_smiles','standard_value','SMILES_desalt','STATUS']\n",
    "df = df[selection]\n",
    "df"
   ]
  },
  {
   "cell_type": "code",
   "execution_count": 112,
   "metadata": {},
   "outputs": [
    {
     "data": {
      "text/plain": [
       "1707"
      ]
     },
     "execution_count": 112,
     "metadata": {},
     "output_type": "execute_result"
    }
   ],
   "source": [
    "len(df['molecule_chembl_id'].unique())"
   ]
  },
  {
   "cell_type": "code",
   "execution_count": 113,
   "metadata": {
    "scrolled": true
   },
   "outputs": [],
   "source": [
    "df.to_csv('~/Documents/DRUG-DISCOVERY/QSAR-modeling/DataModel/Aurora.csv', sep=',' ,index=False)"
   ]
  },
  {
   "cell_type": "code",
   "execution_count": 114,
   "metadata": {
    "colab": {
     "base_uri": "https://localhost:8080/",
     "height": 887
    },
    "id": "U_Itxh3NW8Nf",
    "outputId": "e180076d-d999-4bec-8a48-61cdedb51c60"
   },
   "outputs": [
    {
     "data": {
      "text/plain": [
       "1707"
      ]
     },
     "execution_count": 114,
     "metadata": {},
     "output_type": "execute_result"
    }
   ],
   "source": [
    "len(df)"
   ]
  },
  {
   "cell_type": "code",
   "execution_count": 115,
   "metadata": {},
   "outputs": [],
   "source": [
    "# save DataModel folder\n",
    "df.to_csv   ('~/Documents/DRUG-DISCOVERY/QSAR-modeling/DataModel/Train_aurora.csv'   , sep=',' ,index=False)"
   ]
  },
  {
   "cell_type": "code",
   "execution_count": 116,
   "metadata": {},
   "outputs": [],
   "source": [
    "Train_smiles = df[['SMILES_desalt','molecule_chembl_id']]\n",
    "Train_smiles.to_csv('~/Documents/DRUG-DISCOVERY/QSAR-modeling/Smiles/Train_aurora.smi', sep='\\t' ,header=False ,index=False)\n"
   ]
  },
  {
   "cell_type": "code",
   "execution_count": null,
   "metadata": {},
   "outputs": [],
   "source": []
  },
  {
   "cell_type": "code",
   "execution_count": null,
   "metadata": {},
   "outputs": [],
   "source": []
  }
 ],
 "metadata": {
  "colab": {
   "collapsed_sections": [],
   "name": "drug-discovery1.ipynb",
   "provenance": []
  },
  "kernelspec": {
   "display_name": "Python 3 (ipykernel)",
   "language": "python",
   "name": "python3"
  },
  "language_info": {
   "codemirror_mode": {
    "name": "ipython",
    "version": 3
   },
   "file_extension": ".py",
   "mimetype": "text/x-python",
   "name": "python",
   "nbconvert_exporter": "python",
   "pygments_lexer": "ipython3",
   "version": "3.10.9"
  }
 },
 "nbformat": 4,
 "nbformat_minor": 1
}
