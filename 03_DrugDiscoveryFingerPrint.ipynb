{
 "cells": [
  {
   "cell_type": "code",
   "execution_count": 1,
   "metadata": {},
   "outputs": [
    {
     "name": "stdout",
     "output_type": "stream",
     "text": [
      "/Users/zahramusavizadeh/Documents/DRUG-DISCOVERY/QSAR-modeling\r\n"
     ]
    }
   ],
   "source": [
    "! pwd"
   ]
  },
  {
   "cell_type": "code",
   "execution_count": 2,
   "metadata": {},
   "outputs": [
    {
     "name": "stdout",
     "output_type": "stream",
     "text": [
      "Requirement already satisfied: padelpy in /Users/zahramusavizadeh/anaconda3/lib/python3.10/site-packages (0.1.14)\r\n"
     ]
    }
   ],
   "source": [
    "#A Python wrapper for PaDEL-Descriptor\n",
    "#allow direct access to the PaDEL-Descriptor command-line interface via Python\n",
    "\n",
    "!pip install padelpy"
   ]
  },
  {
   "cell_type": "code",
   "execution_count": 3,
   "metadata": {
    "collapsed": true
   },
   "outputs": [
    {
     "name": "stdout",
     "output_type": "stream",
     "text": [
      "mkdir: /Users/zahramusavizadeh/Documents/DRUG-DISCOVERY/QSAR-modeling/Data/MolFingerprints: File exists\n",
      "--2023-10-03 14:17:01--  https://github.com/dataprofessor/padel/raw/main/fingerprints_xml.zip\n",
      "Resolving github.com (github.com)... 140.82.121.4\n",
      "Connecting to github.com (github.com)|140.82.121.4|:443... connected.\n",
      "HTTP request sent, awaiting response... 302 Found\n",
      "Location: https://raw.githubusercontent.com/dataprofessor/padel/main/fingerprints_xml.zip [following]\n",
      "--2023-10-03 14:17:02--  https://raw.githubusercontent.com/dataprofessor/padel/main/fingerprints_xml.zip\n",
      "Resolving raw.githubusercontent.com (raw.githubusercontent.com)... 185.199.109.133, 185.199.108.133, 185.199.111.133, ...\n",
      "Connecting to raw.githubusercontent.com (raw.githubusercontent.com)|185.199.109.133|:443... connected.\n",
      "HTTP request sent, awaiting response... 200 OK\n",
      "Length: 10871 (11K) [application/zip]\n",
      "Saving to: './Data/MolFingerprints/fingerprints_xml.zip.1'\n",
      "\n",
      "fingerprints_xml.zi 100%[===================>]  10.62K  --.-KB/s    in 0.004s  \n",
      "\n",
      "2023-10-03 14:17:02 (2.90 MB/s) - './Data/MolFingerprints/fingerprints_xml.zip.1' saved [10871/10871]\n",
      "\n",
      "Archive:  Data/MolFingerprints/fingerprints_xml.zip\n",
      "replace Data/MolFingerprints/AtomPairs2DFingerprintCount.xml? [y]es, [n]o, [A]ll, [N]one, [r]ename: ^C\n"
     ]
    }
   ],
   "source": [
    "# Download and unzip fingerprint XML files\n",
    "! mkdir ~/Documents/DRUG-DISCOVERY/QSAR-modeling/Data/MolFingerprints\n",
    "! wget https://github.com/dataprofessor/padel/raw/main/fingerprints_xml.zip --directory ./Data/MolFingerprints\n",
    "! unzip Data/MolFingerprints/fingerprints_xml.zip -d Data/MolFingerprints"
   ]
  },
  {
   "cell_type": "code",
   "execution_count": 4,
   "metadata": {},
   "outputs": [],
   "source": [
    "# List and sort fingerprint XML files\n",
    "import glob \n",
    "\n",
    "xml_files = glob.glob(\"Data/MolFingerprints/*.xml\")\n",
    "xml_files.sort()\n"
   ]
  },
  {
   "cell_type": "code",
   "execution_count": 5,
   "metadata": {},
   "outputs": [],
   "source": [
    "# Create a list with shorten names of xml files\n",
    "\n",
    "FP_list = ['AtomPairs2DCount',\n",
    " 'AtomPairs2D',\n",
    " 'EState',\n",
    " 'CDKextended',\n",
    " 'CDK',\n",
    " 'CDKgraphonly',\n",
    " 'KlekotaRothCount',\n",
    " 'KlekotaRoth',         \n",
    " 'MACCS',\n",
    " 'PubChem',\n",
    " 'SubstructureCount',\n",
    " 'Substructure']"
   ]
  },
  {
   "cell_type": "code",
   "execution_count": 6,
   "metadata": {},
   "outputs": [
    {
     "data": {
      "text/plain": [
       "{'AtomPairs2DCount': 'Data/MolFingerprints/AtomPairs2DFingerprintCount.xml',\n",
       " 'AtomPairs2D': 'Data/MolFingerprints/AtomPairs2DFingerprinter.xml',\n",
       " 'EState': 'Data/MolFingerprints/EStateFingerprinter.xml',\n",
       " 'CDKextended': 'Data/MolFingerprints/ExtendedFingerprinter.xml',\n",
       " 'CDK': 'Data/MolFingerprints/Fingerprinter.xml',\n",
       " 'CDKgraphonly': 'Data/MolFingerprints/GraphOnlyFingerprinter.xml',\n",
       " 'KlekotaRothCount': 'Data/MolFingerprints/KlekotaRothFingerprintCount.xml',\n",
       " 'KlekotaRoth': 'Data/MolFingerprints/KlekotaRothFingerprinter.xml',\n",
       " 'MACCS': 'Data/MolFingerprints/MACCSFingerprinter.xml',\n",
       " 'PubChem': 'Data/MolFingerprints/PubchemFingerprinter.xml',\n",
       " 'SubstructureCount': 'Data/MolFingerprints/SubstructureFingerprintCount.xml',\n",
       " 'Substructure': 'Data/MolFingerprints/SubstructureFingerprinter.xml'}"
      ]
     },
     "execution_count": 6,
     "metadata": {},
     "output_type": "execute_result"
    }
   ],
   "source": [
    "# Create a dictionary with shorten names as keys and xml file names as values\n",
    "fp = dict(zip(FP_list, xml_files))\n",
    "fp"
   ]
  },
  {
   "cell_type": "code",
   "execution_count": 7,
   "metadata": {},
   "outputs": [],
   "source": [
    "#Loading the dataset\n",
    "import pandas as pd\n",
    "df = pd.read_csv('~/Documents/DRUG-DISCOVERY/QSAR-modeling/DataModel/Aurora_final.csv')\n"
   ]
  },
  {
   "cell_type": "code",
   "execution_count": 8,
   "metadata": {},
   "outputs": [
    {
     "data": {
      "text/html": [
       "<div>\n",
       "<style scoped>\n",
       "    .dataframe tbody tr th:only-of-type {\n",
       "        vertical-align: middle;\n",
       "    }\n",
       "\n",
       "    .dataframe tbody tr th {\n",
       "        vertical-align: top;\n",
       "    }\n",
       "\n",
       "    .dataframe thead th {\n",
       "        text-align: right;\n",
       "    }\n",
       "</style>\n",
       "<table border=\"1\" class=\"dataframe\">\n",
       "  <thead>\n",
       "    <tr style=\"text-align: right;\">\n",
       "      <th></th>\n",
       "      <th>canonical_smiles</th>\n",
       "      <th>molecule_chembl_id</th>\n",
       "    </tr>\n",
       "  </thead>\n",
       "  <tbody>\n",
       "    <tr>\n",
       "      <th>0</th>\n",
       "      <td>CC(CN(C)C)Oc1ccc(Cl)cc1NC(=O)Nc1cnc(C#N)cn1</td>\n",
       "      <td>CHEMBL425904</td>\n",
       "    </tr>\n",
       "    <tr>\n",
       "      <th>1</th>\n",
       "      <td>CC1(COc2ccc(Cl)cc2NC(=O)Nc2cnc(C#N)cn2)COC1</td>\n",
       "      <td>CHEMBL192161</td>\n",
       "    </tr>\n",
       "    <tr>\n",
       "      <th>2</th>\n",
       "      <td>CCCCC(=O)Nc1ncc(Nc2ncnc3cc(OCCCN4CCOCC4)c(OC)c...</td>\n",
       "      <td>CHEMBL204318</td>\n",
       "    </tr>\n",
       "    <tr>\n",
       "      <th>3</th>\n",
       "      <td>COc1cc2c(Nc3cnc(NC(=O)c4ccncc4)nc3)ncnc2cc1OCC...</td>\n",
       "      <td>CHEMBL203507</td>\n",
       "    </tr>\n",
       "    <tr>\n",
       "      <th>4</th>\n",
       "      <td>CCCN(CCC)S(=O)(=O)c1ccc(C(=O)Nc2ncc(Nc3ncnc4cc...</td>\n",
       "      <td>CHEMBL206374</td>\n",
       "    </tr>\n",
       "    <tr>\n",
       "      <th>...</th>\n",
       "      <td>...</td>\n",
       "      <td>...</td>\n",
       "    </tr>\n",
       "    <tr>\n",
       "      <th>1691</th>\n",
       "      <td>COc1cc2ncn(-c3cc(OCc4ccccc4C(F)(F)F)c(C(N)=O)s...</td>\n",
       "      <td>CHEMBL514499</td>\n",
       "    </tr>\n",
       "    <tr>\n",
       "      <th>1692</th>\n",
       "      <td>CCOc1cn(-c2ccc(F)cc2C)nc1C(=O)Nc1ccc(Oc2ccnc3c...</td>\n",
       "      <td>CHEMBL3808844</td>\n",
       "    </tr>\n",
       "    <tr>\n",
       "      <th>1693</th>\n",
       "      <td>Cn1cc(-c2[nH]c3cc(NC(=O)[C@H](N)C4CCCCC4)cc4c3...</td>\n",
       "      <td>CHEMBL3990456</td>\n",
       "    </tr>\n",
       "    <tr>\n",
       "      <th>1694</th>\n",
       "      <td>CN1C(=O)c2sccc2N(C)c2nc(Nc3ccc(S(N)(=O)=O)cc3)...</td>\n",
       "      <td>CHEMBL4554938</td>\n",
       "    </tr>\n",
       "    <tr>\n",
       "      <th>1695</th>\n",
       "      <td>CN(C)CCCOc1ccc2c(NCCc3cnc(NC(=O)Nc4cccc(Cl)c4)...</td>\n",
       "      <td>CHEMBL4864729</td>\n",
       "    </tr>\n",
       "  </tbody>\n",
       "</table>\n",
       "<p>1696 rows × 2 columns</p>\n",
       "</div>"
      ],
      "text/plain": [
       "                                       canonical_smiles molecule_chembl_id\n",
       "0           CC(CN(C)C)Oc1ccc(Cl)cc1NC(=O)Nc1cnc(C#N)cn1       CHEMBL425904\n",
       "1           CC1(COc2ccc(Cl)cc2NC(=O)Nc2cnc(C#N)cn2)COC1       CHEMBL192161\n",
       "2     CCCCC(=O)Nc1ncc(Nc2ncnc3cc(OCCCN4CCOCC4)c(OC)c...       CHEMBL204318\n",
       "3     COc1cc2c(Nc3cnc(NC(=O)c4ccncc4)nc3)ncnc2cc1OCC...       CHEMBL203507\n",
       "4     CCCN(CCC)S(=O)(=O)c1ccc(C(=O)Nc2ncc(Nc3ncnc4cc...       CHEMBL206374\n",
       "...                                                 ...                ...\n",
       "1691  COc1cc2ncn(-c3cc(OCc4ccccc4C(F)(F)F)c(C(N)=O)s...       CHEMBL514499\n",
       "1692  CCOc1cn(-c2ccc(F)cc2C)nc1C(=O)Nc1ccc(Oc2ccnc3c...      CHEMBL3808844\n",
       "1693  Cn1cc(-c2[nH]c3cc(NC(=O)[C@H](N)C4CCCCC4)cc4c3...      CHEMBL3990456\n",
       "1694  CN1C(=O)c2sccc2N(C)c2nc(Nc3ccc(S(N)(=O)=O)cc3)...      CHEMBL4554938\n",
       "1695  CN(C)CCCOc1ccc2c(NCCc3cnc(NC(=O)Nc4cccc(Cl)c4)...      CHEMBL4864729\n",
       "\n",
       "[1696 rows x 2 columns]"
      ]
     },
     "execution_count": 8,
     "metadata": {},
     "output_type": "execute_result"
    }
   ],
   "source": [
    "#Concatenating necessary columns\n",
    "df2 = pd.concat( [df['canonical_smiles'],df['molecule_chembl_id']], axis=1 )\n",
    "df2.to_csv('molecule.smi', sep='\\t', index=False, header=False)\n",
    "df2"
   ]
  },
  {
   "cell_type": "code",
   "execution_count": 10,
   "metadata": {},
   "outputs": [],
   "source": [
    "from padelpy import padeldescriptor\n",
    "for i in fp:\n",
    "    \n",
    "    path = \"Data/MolFingerprints/\"\n",
    "    fingerprint = i\n",
    "    fingerprint_output_file_path = ''.join([path,fingerprint]) \n",
    "    fingerprint_output_file = ''.join([fingerprint_output_file_path,'.csv']) \n",
    "    fingerprint_descriptortypes = fp[fingerprint]\n",
    "\n",
    "    padeldescriptor(mol_dir='molecule.smi', \n",
    "                    d_file=fingerprint_output_file, \n",
    "                    descriptortypes= fingerprint_descriptortypes,\n",
    "                    detectaromaticity=True,\n",
    "                    standardizenitro=True,\n",
    "                    standardizetautomers=True,\n",
    "                    threads=2,\n",
    "                    removesalt=True,\n",
    "                    log=True,\n",
    "                    fingerprints=True)"
   ]
  },
  {
   "cell_type": "code",
   "execution_count": null,
   "metadata": {},
   "outputs": [],
   "source": [
    "#https://www.kaggle.com/code/sayalaruano/eda-fingerprint-calc-binary-classifiers/notebook"
   ]
  },
  {
   "cell_type": "code",
   "execution_count": null,
   "metadata": {},
   "outputs": [],
   "source": [
    "#https://github.com/chaninlab/estrogen-receptor-alpha-qsar/blob/master/03_Fingerprint_gen.ipynb"
   ]
  }
 ],
 "metadata": {
  "colab": {
   "name": "AtomPairs2D-3.ipynb",
   "provenance": []
  },
  "kernelspec": {
   "display_name": "Python 3 (ipykernel)",
   "language": "python",
   "name": "python3"
  },
  "language_info": {
   "codemirror_mode": {
    "name": "ipython",
    "version": 3
   },
   "file_extension": ".py",
   "mimetype": "text/x-python",
   "name": "python",
   "nbconvert_exporter": "python",
   "pygments_lexer": "ipython3",
   "version": "3.10.9"
  }
 },
 "nbformat": 4,
 "nbformat_minor": 1
}
